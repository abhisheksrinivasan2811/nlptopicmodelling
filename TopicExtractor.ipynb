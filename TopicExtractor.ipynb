{
 "cells": [
  {
   "cell_type": "code",
   "execution_count": 4,
   "metadata": {
    "executionInfo": {
     "elapsed": 966,
     "status": "ok",
     "timestamp": 1603516342084,
     "user": {
      "displayName": "Abhishek Srinivasan",
      "photoUrl": "",
      "userId": "06649613720069866817"
     },
     "user_tz": -330
    },
    "id": "x7r5eSKmA4yU"
   },
   "outputs": [],
   "source": [
    "import pandas as pd\n",
    "import numpy as np\n",
    "import json\n"
   ]
  },
  {
   "cell_type": "code",
   "execution_count": 62,
   "metadata": {
    "colab": {
     "base_uri": "https://localhost:8080/",
     "height": 50
    },
    "executionInfo": {
     "elapsed": 1248,
     "status": "ok",
     "timestamp": 1603519498364,
     "user": {
      "displayName": "Abhishek Srinivasan",
      "photoUrl": "",
      "userId": "06649613720069866817"
     },
     "user_tz": -330
    },
    "id": "0rMNuF6-NLuv",
    "outputId": "f0efaa9b-a51d-4516-ef89-60ac41664ebc"
   },
   "outputs": [
    {
     "name": "stdout",
     "output_type": "stream",
     "text": [
      "[nltk_data] Downloading package stopwords to /root/nltk_data...\n",
      "[nltk_data]   Unzipping corpora/stopwords.zip.\n"
     ]
    }
   ],
   "source": [
    "import re\n",
    "import nltk\n",
    "nltk.download('stopwords')\n",
    "from nltk.corpus import stopwords\n",
    "from nltk.stem.porter import PorterStemmer\n",
    "from nltk.tokenize import RegexpTokenizer\n",
    "nltk.download('wordnet') \n",
    "from nltk.stem.wordnet import WordNetLemmatizer"
   ]
  },
  {
   "cell_type": "code",
   "execution_count": 5,
   "metadata": {
    "executionInfo": {
     "elapsed": 1011,
     "status": "ok",
     "timestamp": 1603516344393,
     "user": {
      "displayName": "Abhishek Srinivasan",
      "photoUrl": "",
      "userId": "06649613720069866817"
     },
     "user_tz": -330
    },
    "id": "pSOqhFTbA-u6"
   },
   "outputs": [],
   "source": [
    "with open('Philips-juicer.json') as f:\n",
    "  data = json.load(f)"
   ]
  },
  {
   "cell_type": "code",
   "execution_count": 16,
   "metadata": {
    "executionInfo": {
     "elapsed": 1248,
     "status": "ok",
     "timestamp": 1603516642170,
     "user": {
      "displayName": "Abhishek Srinivasan",
      "photoUrl": "",
      "userId": "06649613720069866817"
     },
     "user_tz": -330
    },
    "id": "WSoNZhsWCfgU"
   },
   "outputs": [],
   "source": [
    "actual_data=data[0]"
   ]
  },
  {
   "cell_type": "code",
   "execution_count": 24,
   "metadata": {
    "executionInfo": {
     "elapsed": 1122,
     "status": "ok",
     "timestamp": 1603516841543,
     "user": {
      "displayName": "Abhishek Srinivasan",
      "photoUrl": "",
      "userId": "06649613720069866817"
     },
     "user_tz": -330
    },
    "id": "hCMBAZoYBbB0"
   },
   "outputs": [],
   "source": [
    "reviews_details=actual_data['reviews']"
   ]
  },
  {
   "cell_type": "raw",
   "metadata": {},
   "source": [
    "\n"
   ]
  },
  {
   "cell_type": "code",
   "execution_count": 25,
   "metadata": {
    "colab": {
     "base_uri": "https://localhost:8080/",
     "height": 238
    },
    "executionInfo": {
     "elapsed": 1234,
     "status": "ok",
     "timestamp": 1603516849023,
     "user": {
      "displayName": "Abhishek Srinivasan",
      "photoUrl": "",
      "userId": "06649613720069866817"
     },
     "user_tz": -330
    },
    "id": "4UDYRlGBClTa",
    "outputId": "ad7322d6-0593-455b-a11b-83673c68e576"
   },
   "outputs": [
    {
     "data": {
      "text/plain": [
       "{'Country': 'India',\n",
       " 'Date': ' 26 October 2018',\n",
       " 'Helpfull-Vote': '127',\n",
       " 'Rating': 1,\n",
       " 'Review': 'The juicer is of very poor quality plastic and material. See pics attached of new one and a 1 year old one.Philips in ruining their name with such quality.',\n",
       " 'ReviewTitle': 'Phlipls cheap qualityplastic and poor juicer',\n",
       " 'Username': 'AJ',\n",
       " 'Verification': 'Verified Purchase',\n",
       " 'imgs': ['https://images-na.ssl-images-amazon.com/images/I/81TUeehxxGL._SY88.jpg',\n",
       "  'https://images-na.ssl-images-amazon.com/images/I/81vqJwKI9oL._SY88.jpg'],\n",
       " 'no_of_Comments': '1',\n",
       " 'video': 'No Video'}"
      ]
     },
     "execution_count": 25,
     "metadata": {
      "tags": []
     },
     "output_type": "execute_result"
    }
   ],
   "source": [
    "reviews_details[0]"
   ]
  },
  {
   "cell_type": "code",
   "execution_count": 28,
   "metadata": {
    "executionInfo": {
     "elapsed": 1076,
     "status": "ok",
     "timestamp": 1603517066499,
     "user": {
      "displayName": "Abhishek Srinivasan",
      "photoUrl": "",
      "userId": "06649613720069866817"
     },
     "user_tz": -330
    },
    "id": "nPT9X30zDW4s"
   },
   "outputs": [],
   "source": [
    "reviews=[]\n",
    "review_title=[]\n",
    "for i in reviews_details:\n",
    "  reviews.append(i['Review'])\n",
    "  review_title.append(i['ReviewTitle'])\n"
   ]
  },
  {
   "cell_type": "code",
   "execution_count": 29,
   "metadata": {
    "colab": {
     "base_uri": "https://localhost:8080/",
     "height": 34
    },
    "executionInfo": {
     "elapsed": 1017,
     "status": "ok",
     "timestamp": 1603517086499,
     "user": {
      "displayName": "Abhishek Srinivasan",
      "photoUrl": "",
      "userId": "06649613720069866817"
     },
     "user_tz": -330
    },
    "id": "-xdsqWlbELq8",
    "outputId": "f485aaa6-5bf7-4a4d-e15f-d234f020cee5"
   },
   "outputs": [
    {
     "data": {
      "text/plain": [
       "1627"
      ]
     },
     "execution_count": 29,
     "metadata": {
      "tags": []
     },
     "output_type": "execute_result"
    }
   ],
   "source": [
    "len(reviews)"
   ]
  },
  {
   "cell_type": "code",
   "execution_count": 30,
   "metadata": {
    "colab": {
     "base_uri": "https://localhost:8080/",
     "height": 34
    },
    "executionInfo": {
     "elapsed": 987,
     "status": "ok",
     "timestamp": 1603517096188,
     "user": {
      "displayName": "Abhishek Srinivasan",
      "photoUrl": "",
      "userId": "06649613720069866817"
     },
     "user_tz": -330
    },
    "id": "h1oU_IwTEPr6",
    "outputId": "2cad1943-dca5-4f9a-e7f2-fd01313ce948"
   },
   "outputs": [
    {
     "data": {
      "text/plain": [
       "1627"
      ]
     },
     "execution_count": 30,
     "metadata": {
      "tags": []
     },
     "output_type": "execute_result"
    }
   ],
   "source": [
    "len(review_title)"
   ]
  },
  {
   "cell_type": "code",
   "execution_count": 35,
   "metadata": {
    "executionInfo": {
     "elapsed": 965,
     "status": "ok",
     "timestamp": 1603517393709,
     "user": {
      "displayName": "Abhishek Srinivasan",
      "photoUrl": "",
      "userId": "06649613720069866817"
     },
     "user_tz": -330
    },
    "id": "S74w5KZYEeOz"
   },
   "outputs": [],
   "source": [
    "reviews_length=[]\n",
    "reviews_title_length=[]\n",
    "for i in reviews:\n",
    "  reviews_length.append(len(i))\n",
    "for i in review_title:\n",
    "  reviews_title_length.append(len(i))"
   ]
  },
  {
   "cell_type": "code",
   "execution_count": 32,
   "metadata": {
    "colab": {
     "base_uri": "https://localhost:8080/",
     "height": 34
    },
    "executionInfo": {
     "elapsed": 994,
     "status": "ok",
     "timestamp": 1603517292540,
     "user": {
      "displayName": "Abhishek Srinivasan",
      "photoUrl": "",
      "userId": "06649613720069866817"
     },
     "user_tz": -330
    },
    "id": "XJ0vMTeDE7ti",
    "outputId": "cd3357c8-dc00-4f29-83e4-ecaa9a5b1680"
   },
   "outputs": [
    {
     "data": {
      "text/plain": [
       "132.53472649047328"
      ]
     },
     "execution_count": 32,
     "metadata": {
      "tags": []
     },
     "output_type": "execute_result"
    }
   ],
   "source": [
    "sum(reviews_length)/len(reviews_length)"
   ]
  },
  {
   "cell_type": "code",
   "execution_count": 36,
   "metadata": {
    "colab": {
     "base_uri": "https://localhost:8080/",
     "height": 34
    },
    "executionInfo": {
     "elapsed": 1006,
     "status": "ok",
     "timestamp": 1603517397779,
     "user": {
      "displayName": "Abhishek Srinivasan",
      "photoUrl": "",
      "userId": "06649613720069866817"
     },
     "user_tz": -330
    },
    "id": "r4Fxv9LfFECq",
    "outputId": "d804de40-2407-48b3-d221-bc78e58180ec"
   },
   "outputs": [
    {
     "data": {
      "text/plain": [
       "20.80885064535956"
      ]
     },
     "execution_count": 36,
     "metadata": {
      "tags": []
     },
     "output_type": "execute_result"
    }
   ],
   "source": [
    "sum(reviews_title_length)/len(reviews_title_length)"
   ]
  },
  {
   "cell_type": "code",
   "execution_count": 37,
   "metadata": {
    "executionInfo": {
     "elapsed": 1046,
     "status": "ok",
     "timestamp": 1603517997831,
     "user": {
      "displayName": "Abhishek Srinivasan",
      "photoUrl": "",
      "userId": "06649613720069866817"
     },
     "user_tz": -330
    },
    "id": "Dgz2cfPGHrpl"
   },
   "outputs": [],
   "source": [
    "df=pd.DataFrame()"
   ]
  },
  {
   "cell_type": "code",
   "execution_count": 38,
   "metadata": {
    "executionInfo": {
     "elapsed": 1126,
     "status": "ok",
     "timestamp": 1603518144663,
     "user": {
      "displayName": "Abhishek Srinivasan",
      "photoUrl": "",
      "userId": "06649613720069866817"
     },
     "user_tz": -330
    },
    "id": "PbnBiZ6THuqr"
   },
   "outputs": [],
   "source": [
    "df['reviews']=reviews\n",
    "df['review_title']=review_title\n",
    "df['reviews_length']=reviews_length\n",
    "df['reviews_title_length']=reviews_title_length"
   ]
  },
  {
   "cell_type": "code",
   "execution_count": 41,
   "metadata": {
    "colab": {
     "base_uri": "https://localhost:8080/",
     "height": 168
    },
    "executionInfo": {
     "elapsed": 1078,
     "status": "ok",
     "timestamp": 1603518184592,
     "user": {
      "displayName": "Abhishek Srinivasan",
      "photoUrl": "",
      "userId": "06649613720069866817"
     },
     "user_tz": -330
    },
    "id": "losXqYA0ISbr",
    "outputId": "6b93f273-1d64-41f3-8768-ad0739f656b5"
   },
   "outputs": [
    {
     "data": {
      "text/plain": [
       "count    1627.000000\n",
       "mean      132.534726\n",
       "std       233.120619\n",
       "min         0.000000\n",
       "25%        22.000000\n",
       "50%        58.000000\n",
       "75%       152.000000\n",
       "max      3559.000000\n",
       "Name: reviews_length, dtype: float64"
      ]
     },
     "execution_count": 41,
     "metadata": {
      "tags": []
     },
     "output_type": "execute_result"
    }
   ],
   "source": [
    "df['reviews_length'].describe()"
   ]
  },
  {
   "cell_type": "code",
   "execution_count": 43,
   "metadata": {
    "colab": {
     "base_uri": "https://localhost:8080/",
     "height": 34
    },
    "executionInfo": {
     "elapsed": 984,
     "status": "ok",
     "timestamp": 1603518262174,
     "user": {
      "displayName": "Abhishek Srinivasan",
      "photoUrl": "",
      "userId": "06649613720069866817"
     },
     "user_tz": -330
    },
    "id": "QxDPTwN6IlQy",
    "outputId": "32eb09d1-3892-4b11-e9c5-6efd6288f944"
   },
   "outputs": [
    {
     "data": {
      "text/plain": [
       "951.1000000000001"
      ]
     },
     "execution_count": 43,
     "metadata": {
      "tags": []
     },
     "output_type": "execute_result"
    }
   ],
   "source": [
    "np.percentile(reviews_length,99)"
   ]
  },
  {
   "cell_type": "code",
   "execution_count": 45,
   "metadata": {
    "executionInfo": {
     "elapsed": 1071,
     "status": "ok",
     "timestamp": 1603518600247,
     "user": {
      "displayName": "Abhishek Srinivasan",
      "photoUrl": "",
      "userId": "06649613720069866817"
     },
     "user_tz": -330
    },
    "id": "nk5JMMtXJ6tL"
   },
   "outputs": [],
   "source": [
    "freq = pd.Series(' '.join(df['reviews']).split()).value_counts()[:20]"
   ]
  },
  {
   "cell_type": "code",
   "execution_count": 46,
   "metadata": {
    "colab": {
     "base_uri": "https://localhost:8080/",
     "height": 370
    },
    "executionInfo": {
     "elapsed": 998,
     "status": "ok",
     "timestamp": 1603518607555,
     "user": {
      "displayName": "Abhishek Srinivasan",
      "photoUrl": "",
      "userId": "06649613720069866817"
     },
     "user_tz": -330
    },
    "id": "YbUJfUdEKB-a",
    "outputId": "860eabdc-db54-4cd3-b3da-78317cb095c5"
   },
   "outputs": [
    {
     "data": {
      "text/plain": [
       "the        1275\n",
       "and        1104\n",
       "to         1092\n",
       "is          869\n",
       "of          653\n",
       "a           635\n",
       "it          632\n",
       "I           572\n",
       "for         556\n",
       "product     454\n",
       "juice       448\n",
       "in          443\n",
       "juicer      373\n",
       "this        368\n",
       "not         328\n",
       "very        317\n",
       "with        300\n",
       "good        293\n",
       "easy        281\n",
       "have        257\n",
       "dtype: int64"
      ]
     },
     "execution_count": 46,
     "metadata": {
      "tags": []
     },
     "output_type": "execute_result"
    }
   ],
   "source": [
    "#Hishest used words in review\n",
    "freq"
   ]
  },
  {
   "cell_type": "code",
   "execution_count": 48,
   "metadata": {
    "executionInfo": {
     "elapsed": 1115,
     "status": "ok",
     "timestamp": 1603518811251,
     "user": {
      "displayName": "Abhishek Srinivasan",
      "photoUrl": "",
      "userId": "06649613720069866817"
     },
     "user_tz": -330
    },
    "id": "37T9QOpGKNsi"
   },
   "outputs": [],
   "source": [
    "freq1 =  pd.Series(' '.join(df \n",
    "         ['reviews']).split()).value_counts()[-20:]"
   ]
  },
  {
   "cell_type": "code",
   "execution_count": 49,
   "metadata": {
    "colab": {
     "base_uri": "https://localhost:8080/",
     "height": 370
    },
    "executionInfo": {
     "elapsed": 1096,
     "status": "ok",
     "timestamp": 1603518819651,
     "user": {
      "displayName": "Abhishek Srinivasan",
      "photoUrl": "",
      "userId": "06649613720069866817"
     },
     "user_tz": -330
    },
    "id": "SMc3DEv3K1g7",
    "outputId": "62f51a9f-3e8b-4e16-e043-c7c599e543f1"
   },
   "outputs": [
    {
     "data": {
      "text/plain": [
       "1.5-2.0L         1\n",
       ",removes         1\n",
       "dismantle.       1\n",
       "domestic         1\n",
       "scratched        1\n",
       "Asked            1\n",
       "effects          1\n",
       "health..         1\n",
       "material,        1\n",
       "sound.other      1\n",
       "Pros:Powerful    1\n",
       "swift            1\n",
       "reaches          1\n",
       "Replacement      1\n",
       "good..but        1\n",
       "mot              1\n",
       "15th             1\n",
       "healthy,         1\n",
       "everything,      1\n",
       "disheartened     1\n",
       "dtype: int64"
      ]
     },
     "execution_count": 49,
     "metadata": {
      "tags": []
     },
     "output_type": "execute_result"
    }
   ],
   "source": [
    "#Least used words in reviews\n",
    "freq1"
   ]
  },
  {
   "cell_type": "code",
   "execution_count": 50,
   "metadata": {
    "executionInfo": {
     "elapsed": 1101,
     "status": "ok",
     "timestamp": 1603518850164,
     "user": {
      "displayName": "Abhishek Srinivasan",
      "photoUrl": "",
      "userId": "06649613720069866817"
     },
     "user_tz": -330
    },
    "id": "I2ox1ExiK62T"
   },
   "outputs": [],
   "source": [
    "freq = pd.Series(' '.join(df['review_title']).split()).value_counts()[:20]"
   ]
  },
  {
   "cell_type": "code",
   "execution_count": 51,
   "metadata": {
    "colab": {
     "base_uri": "https://localhost:8080/",
     "height": 370
    },
    "executionInfo": {
     "elapsed": 1118,
     "status": "ok",
     "timestamp": 1603518857026,
     "user": {
      "displayName": "Abhishek Srinivasan",
      "photoUrl": "",
      "userId": "06649613720069866817"
     },
     "user_tz": -330
    },
    "id": "3B9nBlYlK-1c",
    "outputId": "64140d79-d4c5-4d3b-beb4-3ed74718f7ac"
   },
   "outputs": [
    {
     "data": {
      "text/plain": [
       "Stars        319\n",
       "product      223\n",
       "Five         218\n",
       "Good         151\n",
       "and          132\n",
       "juicer       124\n",
       "to           117\n",
       "the          107\n",
       "is           105\n",
       "for           89\n",
       "good          83\n",
       "Four          79\n",
       "...           64\n",
       "Very          59\n",
       "Excellent     55\n",
       "Nice          55\n",
       "it            55\n",
       "of            54\n",
       "very          54\n",
       "Best          53\n",
       "dtype: int64"
      ]
     },
     "execution_count": 51,
     "metadata": {
      "tags": []
     },
     "output_type": "execute_result"
    }
   ],
   "source": [
    "#Highest used words in review title\n",
    "freq"
   ]
  },
  {
   "cell_type": "code",
   "execution_count": 52,
   "metadata": {
    "executionInfo": {
     "elapsed": 1265,
     "status": "ok",
     "timestamp": 1603518932325,
     "user": {
      "displayName": "Abhishek Srinivasan",
      "photoUrl": "",
      "userId": "06649613720069866817"
     },
     "user_tz": -330
    },
    "id": "-nhC52U5LPUm"
   },
   "outputs": [],
   "source": [
    "freq1 =  pd.Series(' '.join(df \n",
    "         ['review_title']).split()).value_counts()[-20:]"
   ]
  },
  {
   "cell_type": "code",
   "execution_count": 53,
   "metadata": {
    "colab": {
     "base_uri": "https://localhost:8080/",
     "height": 370
    },
    "executionInfo": {
     "elapsed": 1079,
     "status": "ok",
     "timestamp": 1603518939560,
     "user": {
      "displayName": "Abhishek Srinivasan",
      "photoUrl": "",
      "userId": "06649613720069866817"
     },
     "user_tz": -330
    },
    "id": "rSyqJaQzLS1O",
    "outputId": "e008cbde-77e1-467a-d8e4-bc9bdc8a150c"
   },
   "outputs": [
    {
     "data": {
      "text/plain": [
       "fullest        1\n",
       "says.          1\n",
       "Costly         1\n",
       "wonderful      1\n",
       "request        1\n",
       "complete       1\n",
       "results!       1\n",
       "JUICER...      1\n",
       "conveneinet    1\n",
       "doable         1\n",
       "Making         1\n",
       "Thick          1\n",
       "jiffy          1\n",
       "allow          1\n",
       "thanks         1\n",
       "devil          1\n",
       "call           1\n",
       "Strongly       1\n",
       "Probably       1\n",
       "technician     1\n",
       "dtype: int64"
      ]
     },
     "execution_count": 53,
     "metadata": {
      "tags": []
     },
     "output_type": "execute_result"
    }
   ],
   "source": [
    "#Least used words in review title\n",
    "freq1"
   ]
  },
  {
   "cell_type": "code",
   "execution_count": 55,
   "metadata": {
    "colab": {
     "base_uri": "https://localhost:8080/",
     "height": 67
    },
    "executionInfo": {
     "elapsed": 1195,
     "status": "ok",
     "timestamp": 1603519016672,
     "user": {
      "displayName": "Abhishek Srinivasan",
      "photoUrl": "",
      "userId": "06649613720069866817"
     },
     "user_tz": -330
    },
    "id": "_56VtbICLkJC",
    "outputId": "7ddeb0d2-b9a6-4d13-b6b5-6f1a7cccb753"
   },
   "outputs": [
    {
     "name": "stdout",
     "output_type": "stream",
     "text": [
      "[nltk_data] Downloading package wordnet to /root/nltk_data...\n",
      "[nltk_data]   Unzipping corpora/wordnet.zip.\n"
     ]
    },
    {
     "data": {
      "text/plain": [
       "True"
      ]
     },
     "execution_count": 55,
     "metadata": {
      "tags": []
     },
     "output_type": "execute_result"
    }
   ],
   "source": [
    "import nltk\n",
    "nltk.download('wordnet')"
   ]
  },
  {
   "cell_type": "code",
   "execution_count": 59,
   "metadata": {
    "colab": {
     "base_uri": "https://localhost:8080/",
     "height": 50
    },
    "executionInfo": {
     "elapsed": 1249,
     "status": "ok",
     "timestamp": 1603519059969,
     "user": {
      "displayName": "Abhishek Srinivasan",
      "photoUrl": "",
      "userId": "06649613720069866817"
     },
     "user_tz": -330
    },
    "id": "AV6Y-79LLebB",
    "outputId": "505bf3b2-03a1-4096-f6c0-dd8473882e82"
   },
   "outputs": [
    {
     "name": "stdout",
     "output_type": "stream",
     "text": [
      "stemming: run\n",
      "lemmatization: run\n"
     ]
    }
   ],
   "source": [
    "#Stemming and Lemmatization\n",
    "lem = WordNetLemmatizer()\n",
    "stem = PorterStemmer()\n",
    "word = \"running\"\n",
    "print(\"stemming:\",stem.stem(word))\n",
    "print(\"lemmatization:\", lem.lemmatize(word, \"v\"))"
   ]
  },
  {
   "cell_type": "code",
   "execution_count": 63,
   "metadata": {
    "executionInfo": {
     "elapsed": 1206,
     "status": "ok",
     "timestamp": 1603519508154,
     "user": {
      "displayName": "Abhishek Srinivasan",
      "photoUrl": "",
      "userId": "06649613720069866817"
     },
     "user_tz": -330
    },
    "id": "fQP36JEHNOEx"
   },
   "outputs": [],
   "source": [
    "stop_words = set(stopwords.words(\"english\"))"
   ]
  },
  {
   "cell_type": "code",
   "execution_count": 64,
   "metadata": {
    "executionInfo": {
     "elapsed": 1429,
     "status": "ok",
     "timestamp": 1603519708479,
     "user": {
      "displayName": "Abhishek Srinivasan",
      "photoUrl": "",
      "userId": "06649613720069866817"
     },
     "user_tz": -330
    },
    "id": "TUBAF48tNfdD"
   },
   "outputs": [],
   "source": [
    "#Preprocessing reviews\n",
    "corpus = []\n",
    "for i in reviews:\n",
    "    #Remove punctuations\n",
    "    text = re.sub('[^a-zA-Z]', ' ', i)\n",
    "    \n",
    "    #Convert to lowercase\n",
    "    text = text.lower()\n",
    "    \n",
    "    #remove tags\n",
    "    text=re.sub(\"&lt;/?.*?&gt;\",\" &lt;&gt; \",text)\n",
    "    \n",
    "    # remove special characters and digits\n",
    "    text=re.sub(\"(\\\\d|\\\\W)+\",\" \",text)\n",
    "    \n",
    "    ##Convert to list from string\n",
    "    text = text.split()\n",
    "    \n",
    "    ##Stemming\n",
    "    ps=PorterStemmer()\n",
    "    #Lemmatisation\n",
    "    lem = WordNetLemmatizer()\n",
    "    text = [lem.lemmatize(word) for word in text if not word in  \n",
    "            stop_words] \n",
    "    text = \" \".join(text)\n",
    "    corpus.append(text)"
   ]
  },
  {
   "cell_type": "code",
   "execution_count": 68,
   "metadata": {
    "colab": {
     "base_uri": "https://localhost:8080/",
     "height": 35
    },
    "executionInfo": {
     "elapsed": 1391,
     "status": "ok",
     "timestamp": 1603519819572,
     "user": {
      "displayName": "Abhishek Srinivasan",
      "photoUrl": "",
      "userId": "06649613720069866817"
     },
     "user_tz": -330
    },
    "id": "ZotmdchhOQ4T",
    "outputId": "07f2c23f-bcd0-49a9-c1f6-1e15cce88886"
   },
   "outputs": [
    {
     "data": {
      "application/vnd.google.colaboratory.intrinsic+json": {
       "type": "string"
      },
      "text/plain": [
       "'juicer poor quality plastic material see pic attached new one year old one philip ruining name quality'"
      ]
     },
     "execution_count": 68,
     "metadata": {
      "tags": []
     },
     "output_type": "execute_result"
    }
   ],
   "source": [
    "corpus[10]"
   ]
  },
  {
   "cell_type": "code",
   "execution_count": 69,
   "metadata": {
    "colab": {
     "base_uri": "https://localhost:8080/",
     "height": 215
    },
    "executionInfo": {
     "elapsed": 3697,
     "status": "ok",
     "timestamp": 1603519853629,
     "user": {
      "displayName": "Abhishek Srinivasan",
      "photoUrl": "",
      "userId": "06649613720069866817"
     },
     "user_tz": -330
    },
    "id": "Q3fs0gXxOtbR",
    "outputId": "c67b9999-a685-42b7-c701-eb1675ce2d4b"
   },
   "outputs": [
    {
     "name": "stdout",
     "output_type": "stream",
     "text": [
      "<wordcloud.wordcloud.WordCloud object at 0x7fd78227dfd0>\n"
     ]
    },
    {
     "data": {
      "image/png": "[encoded data removed]",
      "text/plain": [
       "<Figure size 432x288 with 1 Axes>"
      ]
     },
     "metadata": {
      "needs_background": "light",
      "tags": []
     },
     "output_type": "display_data"
    }
   ],
   "source": [
    "#Wordcloud\n",
    "from os import path\n",
    "from PIL import Image\n",
    "from wordcloud import WordCloud, STOPWORDS, ImageColorGenerator\n",
    "import matplotlib.pyplot as plt\n",
    "% matplotlib inline\n",
    "wordcloud = WordCloud(\n",
    "                          background_color='white',\n",
    "                          stopwords=stop_words,\n",
    "                          max_words=100,\n",
    "                          max_font_size=50, \n",
    "                          random_state=42\n",
    "                         ).generate(str(corpus))\n",
    "print(wordcloud)\n",
    "fig = plt.figure(1)\n",
    "plt.imshow(wordcloud)\n",
    "plt.axis('off')\n",
    "plt.show()\n",
    "fig.savefig(\"word1.png\", dpi=900)"
   ]
  },
  {
   "cell_type": "code",
   "execution_count": 70,
   "metadata": {
    "executionInfo": {
     "elapsed": 1121,
     "status": "ok",
     "timestamp": 1603520227235,
     "user": {
      "displayName": "Abhishek Srinivasan",
      "photoUrl": "",
      "userId": "06649613720069866817"
     },
     "user_tz": -330
    },
    "id": "mKHOpi0VP8yB"
   },
   "outputs": [],
   "source": [
    "from sklearn.feature_extraction.text import CountVectorizer\n",
    "import re\n",
    "cv=CountVectorizer(max_df=0.8,stop_words=stop_words, max_features=10000, ngram_range=(1,3))\n",
    "X=cv.fit_transform(corpus)"
   ]
  },
  {
   "cell_type": "code",
   "execution_count": 71,
   "metadata": {
    "colab": {
     "base_uri": "https://localhost:8080/",
     "height": 185
    },
    "executionInfo": {
     "elapsed": 1331,
     "status": "ok",
     "timestamp": 1603520243321,
     "user": {
      "displayName": "Abhishek Srinivasan",
      "photoUrl": "",
      "userId": "06649613720069866817"
     },
     "user_tz": -330
    },
    "id": "3y_0RtflQPI8",
    "outputId": "77b33059-d00c-4749-f973-dd12172d183b"
   },
   "outputs": [
    {
     "data": {
      "text/plain": [
       "['juicer',\n",
       " 'poor',\n",
       " 'quality',\n",
       " 'plastic',\n",
       " 'material',\n",
       " 'see',\n",
       " 'pic',\n",
       " 'attached',\n",
       " 'new',\n",
       " 'one']"
      ]
     },
     "execution_count": 71,
     "metadata": {
      "tags": []
     },
     "output_type": "execute_result"
    }
   ],
   "source": [
    "list(cv.vocabulary_.keys())[:10]"
   ]
  },
  {
   "cell_type": "code",
   "execution_count": 73,
   "metadata": {
    "colab": {
     "base_uri": "https://localhost:8080/",
     "height": 865
    },
    "executionInfo": {
     "elapsed": 1732,
     "status": "ok",
     "timestamp": 1603520379198,
     "user": {
      "displayName": "Abhishek Srinivasan",
      "photoUrl": "",
      "userId": "06649613720069866817"
     },
     "user_tz": -330
    },
    "id": "Loc2joPwQZJr",
    "outputId": "929523d1-2486-4365-e220-c3d450e9e197"
   },
   "outputs": [
    {
     "data": {
      "text/plain": [
       "[Text(0, 0, 'product'),\n",
       " Text(0, 0, 'juice'),\n",
       " Text(0, 0, 'juicer'),\n",
       " Text(0, 0, 'good'),\n",
       " Text(0, 0, 'easy'),\n",
       " Text(0, 0, 'clean'),\n",
       " Text(0, 0, 'use'),\n",
       " Text(0, 0, 'fruit'),\n",
       " Text(0, 0, 'one'),\n",
       " Text(0, 0, 'philip'),\n",
       " Text(0, 0, 'pulp'),\n",
       " Text(0, 0, 'cleaning'),\n",
       " Text(0, 0, 'best'),\n",
       " Text(0, 0, 'time'),\n",
       " Text(0, 0, 'vegetable'),\n",
       " Text(0, 0, 'quality'),\n",
       " Text(0, 0, 'great'),\n",
       " Text(0, 0, 'like'),\n",
       " Text(0, 0, 'carrot'),\n",
       " Text(0, 0, 'excellent')]"
      ]
     },
     "execution_count": 73,
     "metadata": {
      "tags": []
     },
     "output_type": "execute_result"
    },
    {
     "data": {
      "image/png": "[encoded data removed]",
      "text/plain": [
       "<Figure size 936x576 with 1 Axes>"
      ]
     },
     "metadata": {
      "tags": []
     },
     "output_type": "display_data"
    }
   ],
   "source": [
    "def get_top_n_words(corpus, n=None):\n",
    "    vec = CountVectorizer().fit(corpus)\n",
    "    bag_of_words = vec.transform(corpus)\n",
    "    sum_words = bag_of_words.sum(axis=0) \n",
    "    words_freq = [(word, sum_words[0, idx]) for word, idx in      \n",
    "                   vec.vocabulary_.items()]\n",
    "    words_freq =sorted(words_freq, key = lambda x: x[1], \n",
    "                       reverse=True)\n",
    "    return words_freq[:n]\n",
    "#Convert most freq words to dataframe for plotting bar plot\n",
    "top_words = get_top_n_words(corpus, n=20)\n",
    "top_df = pd.DataFrame(top_words)\n",
    "top_df.columns=[\"Word\", \"Freq\"]\n",
    "#Barplot of most freq words\n",
    "import seaborn as sns\n",
    "sns.set(rc={'figure.figsize':(13,8)})\n",
    "g = sns.barplot(x=\"Word\", y=\"Freq\", data=top_df)\n",
    "g.set_xticklabels(g.get_xticklabels(), rotation=30)\n"
   ]
  },
  {
   "cell_type": "code",
   "execution_count": 75,
   "metadata": {
    "colab": {
     "base_uri": "https://localhost:8080/",
     "height": 1000
    },
    "executionInfo": {
     "elapsed": 1634,
     "status": "ok",
     "timestamp": 1603520423741,
     "user": {
      "displayName": "Abhishek Srinivasan",
      "photoUrl": "",
      "userId": "06649613720069866817"
     },
     "user_tz": -330
    },
    "id": "I4F_57DEQ4ZP",
    "outputId": "dcd9ba6b-b111-4ae0-e601-ca124b517e84"
   },
   "outputs": [
    {
     "name": "stdout",
     "output_type": "stream",
     "text": [
      "              Bi-gram  Freq\n",
      "0        good product   140\n",
      "1          easy clean   128\n",
      "2            easy use   114\n",
      "3     fruit vegetable    54\n",
      "4        nice product    52\n",
      "5         good juicer    52\n",
      "6       great product    45\n",
      "7         best juicer    44\n",
      "8   excellent product    43\n",
      "9        product easy    36\n",
      "10         make juice    33\n",
      "11        juice fruit    32\n",
      "12      easy assemble    30\n",
      "13       product good    29\n",
      "14          use clean    27\n",
      "15      extract juice    26\n",
      "16    awesome product    24\n",
      "17        value money    24\n",
      "18    carrot beetroot    23\n",
      "19        fresh juice    23\n"
     ]
    },
    {
     "data": {
      "text/plain": [
       "[Text(0, 0, 'good product'),\n",
       " Text(0, 0, 'easy clean'),\n",
       " Text(0, 0, 'easy use'),\n",
       " Text(0, 0, 'fruit vegetable'),\n",
       " Text(0, 0, 'nice product'),\n",
       " Text(0, 0, 'good juicer'),\n",
       " Text(0, 0, 'great product'),\n",
       " Text(0, 0, 'best juicer'),\n",
       " Text(0, 0, 'excellent product'),\n",
       " Text(0, 0, 'product easy'),\n",
       " Text(0, 0, 'make juice'),\n",
       " Text(0, 0, 'juice fruit'),\n",
       " Text(0, 0, 'easy assemble'),\n",
       " Text(0, 0, 'product good'),\n",
       " Text(0, 0, 'use clean'),\n",
       " Text(0, 0, 'extract juice'),\n",
       " Text(0, 0, 'awesome product'),\n",
       " Text(0, 0, 'value money'),\n",
       " Text(0, 0, 'carrot beetroot'),\n",
       " Text(0, 0, 'fresh juice')]"
      ]
     },
     "execution_count": 75,
     "metadata": {
      "tags": []
     },
     "output_type": "execute_result"
    },
    {
     "data": {
      "image/png": "[encoded data removed]",
      "text/plain": [
       "<Figure size 936x576 with 1 Axes>"
      ]
     },
     "metadata": {
      "tags": []
     },
     "output_type": "display_data"
    }
   ],
   "source": [
    "#Most frequently occuring Bi-grams\n",
    "def get_top_n2_words(corpus, n=None):\n",
    "    vec1 = CountVectorizer(ngram_range=(2,2),  \n",
    "            max_features=2000).fit(corpus)\n",
    "    bag_of_words = vec1.transform(corpus)\n",
    "    sum_words = bag_of_words.sum(axis=0) \n",
    "    words_freq = [(word, sum_words[0, idx]) for word, idx in     \n",
    "                  vec1.vocabulary_.items()]\n",
    "    words_freq =sorted(words_freq, key = lambda x: x[1], \n",
    "                reverse=True)\n",
    "    return words_freq[:n]\n",
    "top2_words = get_top_n2_words(corpus, n=20)\n",
    "top2_df = pd.DataFrame(top2_words)\n",
    "top2_df.columns=[\"Bi-gram\", \"Freq\"]\n",
    "print(top2_df)\n",
    "#Barplot of most freq Bi-grams\n",
    "import seaborn as sns\n",
    "sns.set(rc={'figure.figsize':(13,8)})\n",
    "h=sns.barplot(x=\"Bi-gram\", y=\"Freq\", data=top2_df)\n",
    "h.set_xticklabels(h.get_xticklabels(), rotation=45)"
   ]
  },
  {
   "cell_type": "code",
   "execution_count": 77,
   "metadata": {
    "colab": {
     "base_uri": "https://localhost:8080/",
     "height": 1000
    },
    "executionInfo": {
     "elapsed": 1652,
     "status": "ok",
     "timestamp": 1603520531075,
     "user": {
      "displayName": "Abhishek Srinivasan",
      "photoUrl": "",
      "userId": "06649613720069866817"
     },
     "user_tz": -330
    },
    "id": "c85lPdypRVbt",
    "outputId": "0fe607a6-9e44-4f90-a524-37c16ce43dad"
   },
   "outputs": [
    {
     "name": "stdout",
     "output_type": "stream",
     "text": [
      "                 Tri-gram  Freq\n",
      "0          easy use clean    24\n",
      "1        product easy use    22\n",
      "2           easy use easy    14\n",
      "3       good product easy    14\n",
      "4          use easy clean    12\n",
      "5   juice fruit vegetable    10\n",
      "6       good amount juice     9\n",
      "7        best juicer ever     9\n",
      "8    philip customer care     8\n",
      "9     assemble easy clean     8\n",
      "10        one best juicer     8\n",
      "11          good easy use     7\n",
      "12   good quality product     7\n",
      "13  fruit vegetable juice     7\n",
      "14        juicer easy use     7\n",
      "15     easy operate clean     7\n",
      "16        juice every day     7\n",
      "17     easy assemble easy     7\n",
      "18     product easy clean     7\n",
      "19       juicer ever used     6\n"
     ]
    },
    {
     "data": {
      "text/plain": [
       "[Text(0, 0, 'easy use clean'),\n",
       " Text(0, 0, 'product easy use'),\n",
       " Text(0, 0, 'easy use easy'),\n",
       " Text(0, 0, 'good product easy'),\n",
       " Text(0, 0, 'use easy clean'),\n",
       " Text(0, 0, 'juice fruit vegetable'),\n",
       " Text(0, 0, 'good amount juice'),\n",
       " Text(0, 0, 'best juicer ever'),\n",
       " Text(0, 0, 'philip customer care'),\n",
       " Text(0, 0, 'assemble easy clean'),\n",
       " Text(0, 0, 'one best juicer'),\n",
       " Text(0, 0, 'good easy use'),\n",
       " Text(0, 0, 'good quality product'),\n",
       " Text(0, 0, 'fruit vegetable juice'),\n",
       " Text(0, 0, 'juicer easy use'),\n",
       " Text(0, 0, 'easy operate clean'),\n",
       " Text(0, 0, 'juice every day'),\n",
       " Text(0, 0, 'easy assemble easy'),\n",
       " Text(0, 0, 'product easy clean'),\n",
       " Text(0, 0, 'juicer ever used')]"
      ]
     },
     "execution_count": 77,
     "metadata": {
      "tags": []
     },
     "output_type": "execute_result"
    },
    {
     "data": {
      "image/png": "[encoded data removed]",
      "text/plain": [
       "<Figure size 936x576 with 1 Axes>"
      ]
     },
     "metadata": {
      "tags": []
     },
     "output_type": "display_data"
    }
   ],
   "source": [
    "#Most frequently occuring Tri-grams\n",
    "def get_top_n3_words(corpus, n=None):\n",
    "    vec1 = CountVectorizer(ngram_range=(3,3), \n",
    "           max_features=2000).fit(corpus)\n",
    "    bag_of_words = vec1.transform(corpus)\n",
    "    sum_words = bag_of_words.sum(axis=0) \n",
    "    words_freq = [(word, sum_words[0, idx]) for word, idx in     \n",
    "                  vec1.vocabulary_.items()]\n",
    "    words_freq =sorted(words_freq, key = lambda x: x[1], \n",
    "                reverse=True)\n",
    "    return words_freq[:n]\n",
    "top3_words = get_top_n3_words(corpus, n=20)\n",
    "top3_df = pd.DataFrame(top3_words)\n",
    "top3_df.columns=[\"Tri-gram\", \"Freq\"]\n",
    "print(top3_df)\n",
    "#Barplot of most freq Tri-grams\n",
    "import seaborn as sns\n",
    "sns.set(rc={'figure.figsize':(13,8)})\n",
    "j=sns.barplot(x=\"Tri-gram\", y=\"Freq\", data=top3_df)\n",
    "j.set_xticklabels(j.get_xticklabels(), rotation=45)"
   ]
  }
 ],
 "metadata": {
  "colab": {
   "authorship_tag": "ABX9TyOCzkZ/0jH3MlXkvh1vEQxp",
   "collapsed_sections": [],
   "name": "TopicExtractor.ipynb",
   "provenance": []
  },
  "kernelspec": {
   "display_name": "Python 3",
   "language": "python",
   "name": "python3"
  },
  "language_info": {
   "codemirror_mode": {
    "name": "ipython",
    "version": 3
   },
   "file_extension": ".py",
   "mimetype": "text/x-python",
   "name": "python",
   "nbconvert_exporter": "python",
   "pygments_lexer": "ipython3",
   "version": "3.7.3"
  }
 },
 "nbformat": 4,
 "nbformat_minor": 1
}
